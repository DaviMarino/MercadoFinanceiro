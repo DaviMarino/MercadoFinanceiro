{
 "cells": [
  {
   "cell_type": "code",
   "execution_count": 1,
   "metadata": {},
   "outputs": [],
   "source": [
    "import pandas as pd\n",
    "import numpy as np\n",
    "from sklearn.feature_selection import SelectKBest\n",
    "from sklearn.preprocessing import MinMaxScaler\n",
    "from sklearn import datasets, linear_model\n",
    "from sklearn.metrics import r2_score\n",
    "from datetime import datetime, timedelta\n",
    "\n",
    "import getDados\n",
    "from enums import *\n",
    "import etl\n",
    "import graficos"
   ]
  },
  {
   "cell_type": "code",
   "execution_count": 28,
   "metadata": {},
   "outputs": [],
   "source": [
    "## Processo de ETL\n",
    "papel = papeis.BBAS3\n",
    "intervalo = intervalos.um_dia.value\n",
    "data_inicio = str(datetime.now().year - 5) + '-01-01'\n",
    "data_fim = (datetime.now() + timedelta(days=-1)).strftime('%Y-%m-%d')\n",
    "df = getDados.get_fromYahoo_por_datas(papel=papel, data_inicio=data_inicio, data_fim=data_fim, intervalo=intervalo)\n",
    "df = etl.padroniza_df_yahoo(df_yahoo=df, papel=papel)\n",
    "df = etl.add_media_movel_simples(df=df, periodo=9, campo='Fechamento')\n",
    "df = etl.add_media_movel_exponencial(df=df, periodo=50, campo='Fechamento')\n",
    "df = etl.desvioPadrao(df=df, periodo=20, campo='Fechamento')\n",
    "df = etl.bandasBollinger(df=df, campo='MMS11', seCampoNaoExiste=True)\n",
    "df = etl.ifr(df=df, campo='Fechamento', periodo=14)\n",
    "df['Max20'] = df['Fechamento'].rolling(window=20).max()\n",
    "df['Min20'] = df['Fechamento'].rolling(window=20).min()"
   ]
  },
  {
   "cell_type": "code",
   "execution_count": 29,
   "metadata": {},
   "outputs": [
    {
     "data": {
      "text/html": [
       "<div>\n",
       "<style scoped>\n",
       "    .dataframe tbody tr th:only-of-type {\n",
       "        vertical-align: middle;\n",
       "    }\n",
       "\n",
       "    .dataframe tbody tr th {\n",
       "        vertical-align: top;\n",
       "    }\n",
       "\n",
       "    .dataframe thead th {\n",
       "        text-align: right;\n",
       "    }\n",
       "</style>\n",
       "<table border=\"1\" class=\"dataframe\">\n",
       "  <thead>\n",
       "    <tr style=\"text-align: right;\">\n",
       "      <th></th>\n",
       "      <th>Papel</th>\n",
       "      <th>Abertura</th>\n",
       "      <th>Alta</th>\n",
       "      <th>Baixa</th>\n",
       "      <th>Fechamento</th>\n",
       "      <th>Volume</th>\n",
       "      <th>MMS9</th>\n",
       "      <th>MME50</th>\n",
       "      <th>DesvioPadrao</th>\n",
       "      <th>BandaSuperior</th>\n",
       "      <th>BandaInferior</th>\n",
       "      <th>IFR</th>\n",
       "      <th>Max20</th>\n",
       "      <th>Min20</th>\n",
       "      <th>FechamentoSeguinte</th>\n",
       "    </tr>\n",
       "    <tr>\n",
       "      <th>Datas</th>\n",
       "      <th></th>\n",
       "      <th></th>\n",
       "      <th></th>\n",
       "      <th></th>\n",
       "      <th></th>\n",
       "      <th></th>\n",
       "      <th></th>\n",
       "      <th></th>\n",
       "      <th></th>\n",
       "      <th></th>\n",
       "      <th></th>\n",
       "      <th></th>\n",
       "      <th></th>\n",
       "      <th></th>\n",
       "      <th></th>\n",
       "    </tr>\n",
       "  </thead>\n",
       "  <tbody>\n",
       "    <tr>\n",
       "      <th>2022-11-08</th>\n",
       "      <td>BBAS3</td>\n",
       "      <td>37.779999</td>\n",
       "      <td>38.299999</td>\n",
       "      <td>37.320000</td>\n",
       "      <td>38.070000</td>\n",
       "      <td>14742300</td>\n",
       "      <td>38.261111</td>\n",
       "      <td>39.327449</td>\n",
       "      <td>1.874794</td>\n",
       "      <td>42.300496</td>\n",
       "      <td>34.801322</td>\n",
       "      <td>44.776356</td>\n",
       "      <td>44.68</td>\n",
       "      <td>37.020000</td>\n",
       "      <td>37.060001</td>\n",
       "    </tr>\n",
       "    <tr>\n",
       "      <th>2022-11-09</th>\n",
       "      <td>BBAS3</td>\n",
       "      <td>37.639999</td>\n",
       "      <td>38.560001</td>\n",
       "      <td>36.919998</td>\n",
       "      <td>37.060001</td>\n",
       "      <td>18987500</td>\n",
       "      <td>38.144444</td>\n",
       "      <td>39.238530</td>\n",
       "      <td>1.950762</td>\n",
       "      <td>42.166979</td>\n",
       "      <td>34.363929</td>\n",
       "      <td>41.400610</td>\n",
       "      <td>44.68</td>\n",
       "      <td>37.020000</td>\n",
       "      <td>36.330002</td>\n",
       "    </tr>\n",
       "    <tr>\n",
       "      <th>2022-11-10</th>\n",
       "      <td>BBAS3</td>\n",
       "      <td>37.000000</td>\n",
       "      <td>37.680000</td>\n",
       "      <td>35.669998</td>\n",
       "      <td>36.330002</td>\n",
       "      <td>64558100</td>\n",
       "      <td>37.893333</td>\n",
       "      <td>39.124470</td>\n",
       "      <td>2.068527</td>\n",
       "      <td>42.113418</td>\n",
       "      <td>33.839309</td>\n",
       "      <td>39.105792</td>\n",
       "      <td>44.68</td>\n",
       "      <td>36.330002</td>\n",
       "      <td>35.520000</td>\n",
       "    </tr>\n",
       "    <tr>\n",
       "      <th>2022-11-11</th>\n",
       "      <td>BBAS3</td>\n",
       "      <td>36.310001</td>\n",
       "      <td>36.650002</td>\n",
       "      <td>35.360001</td>\n",
       "      <td>35.520000</td>\n",
       "      <td>54156800</td>\n",
       "      <td>37.526667</td>\n",
       "      <td>38.983118</td>\n",
       "      <td>2.231205</td>\n",
       "      <td>42.203320</td>\n",
       "      <td>33.278498</td>\n",
       "      <td>36.676518</td>\n",
       "      <td>44.68</td>\n",
       "      <td>35.520000</td>\n",
       "      <td>36.400002</td>\n",
       "    </tr>\n",
       "    <tr>\n",
       "      <th>2022-11-14</th>\n",
       "      <td>BBAS3</td>\n",
       "      <td>36.000000</td>\n",
       "      <td>36.799999</td>\n",
       "      <td>35.650002</td>\n",
       "      <td>36.400002</td>\n",
       "      <td>23033900</td>\n",
       "      <td>37.457778</td>\n",
       "      <td>38.881820</td>\n",
       "      <td>2.309646</td>\n",
       "      <td>42.161110</td>\n",
       "      <td>32.922527</td>\n",
       "      <td>40.967060</td>\n",
       "      <td>44.68</td>\n",
       "      <td>35.520000</td>\n",
       "      <td>NaN</td>\n",
       "    </tr>\n",
       "  </tbody>\n",
       "</table>\n",
       "</div>"
      ],
      "text/plain": [
       "            Papel   Abertura       Alta      Baixa  Fechamento    Volume  \\\n",
       "Datas                                                                      \n",
       "2022-11-08  BBAS3  37.779999  38.299999  37.320000   38.070000  14742300   \n",
       "2022-11-09  BBAS3  37.639999  38.560001  36.919998   37.060001  18987500   \n",
       "2022-11-10  BBAS3  37.000000  37.680000  35.669998   36.330002  64558100   \n",
       "2022-11-11  BBAS3  36.310001  36.650002  35.360001   35.520000  54156800   \n",
       "2022-11-14  BBAS3  36.000000  36.799999  35.650002   36.400002  23033900   \n",
       "\n",
       "                 MMS9      MME50  DesvioPadrao  BandaSuperior  BandaInferior  \\\n",
       "Datas                                                                          \n",
       "2022-11-08  38.261111  39.327449      1.874794      42.300496      34.801322   \n",
       "2022-11-09  38.144444  39.238530      1.950762      42.166979      34.363929   \n",
       "2022-11-10  37.893333  39.124470      2.068527      42.113418      33.839309   \n",
       "2022-11-11  37.526667  38.983118      2.231205      42.203320      33.278498   \n",
       "2022-11-14  37.457778  38.881820      2.309646      42.161110      32.922527   \n",
       "\n",
       "                  IFR  Max20      Min20  FechamentoSeguinte  \n",
       "Datas                                                        \n",
       "2022-11-08  44.776356  44.68  37.020000           37.060001  \n",
       "2022-11-09  41.400610  44.68  37.020000           36.330002  \n",
       "2022-11-10  39.105792  44.68  36.330002           35.520000  \n",
       "2022-11-11  36.676518  44.68  35.520000           36.400002  \n",
       "2022-11-14  40.967060  44.68  35.520000                 NaN  "
      ]
     },
     "execution_count": 29,
     "metadata": {},
     "output_type": "execute_result"
    }
   ],
   "source": [
    "df['FechamentoSeguinte'] = df.Fechamento.shift(-1)\n",
    "df_original = df.copy()\n",
    "df.reset_index(inplace=True)\n",
    "df.dropna(inplace=True)\n",
    "df_original.tail()"
   ]
  },
  {
   "cell_type": "code",
   "execution_count": 26,
   "metadata": {},
   "outputs": [
    {
     "data": {
      "text/html": [
       "<div>\n",
       "<style scoped>\n",
       "    .dataframe tbody tr th:only-of-type {\n",
       "        vertical-align: middle;\n",
       "    }\n",
       "\n",
       "    .dataframe tbody tr th {\n",
       "        vertical-align: top;\n",
       "    }\n",
       "\n",
       "    .dataframe thead th {\n",
       "        text-align: right;\n",
       "    }\n",
       "</style>\n",
       "<table border=\"1\" class=\"dataframe\">\n",
       "  <thead>\n",
       "    <tr style=\"text-align: right;\">\n",
       "      <th></th>\n",
       "      <th>Datas</th>\n",
       "      <th>Papel</th>\n",
       "      <th>Abertura</th>\n",
       "      <th>Alta</th>\n",
       "      <th>Baixa</th>\n",
       "      <th>Fechamento</th>\n",
       "      <th>Volume</th>\n",
       "      <th>MMS9</th>\n",
       "      <th>MME50</th>\n",
       "      <th>DesvioPadrao</th>\n",
       "      <th>BandaSuperior</th>\n",
       "      <th>BandaInferior</th>\n",
       "      <th>IFR</th>\n",
       "      <th>Max20</th>\n",
       "      <th>Min20</th>\n",
       "      <th>FechamentoSeguinte</th>\n",
       "    </tr>\n",
       "  </thead>\n",
       "  <tbody>\n",
       "    <tr>\n",
       "      <th>1455</th>\n",
       "      <td>2022-11-07</td>\n",
       "      <td>BBAS3</td>\n",
       "      <td>38.910000</td>\n",
       "      <td>39.189999</td>\n",
       "      <td>37.619999</td>\n",
       "      <td>37.889999</td>\n",
       "      <td>23671200</td>\n",
       "      <td>38.421111</td>\n",
       "      <td>39.378774</td>\n",
       "      <td>1.855995</td>\n",
       "      <td>42.863808</td>\n",
       "      <td>35.439829</td>\n",
       "      <td>44.020995</td>\n",
       "      <td>44.68</td>\n",
       "      <td>37.020000</td>\n",
       "      <td>38.070000</td>\n",
       "    </tr>\n",
       "    <tr>\n",
       "      <th>1456</th>\n",
       "      <td>2022-11-08</td>\n",
       "      <td>BBAS3</td>\n",
       "      <td>37.779999</td>\n",
       "      <td>38.299999</td>\n",
       "      <td>37.320000</td>\n",
       "      <td>38.070000</td>\n",
       "      <td>14742300</td>\n",
       "      <td>38.261111</td>\n",
       "      <td>39.327449</td>\n",
       "      <td>1.874794</td>\n",
       "      <td>42.300496</td>\n",
       "      <td>34.801322</td>\n",
       "      <td>44.776356</td>\n",
       "      <td>44.68</td>\n",
       "      <td>37.020000</td>\n",
       "      <td>37.060001</td>\n",
       "    </tr>\n",
       "    <tr>\n",
       "      <th>1457</th>\n",
       "      <td>2022-11-09</td>\n",
       "      <td>BBAS3</td>\n",
       "      <td>37.639999</td>\n",
       "      <td>38.560001</td>\n",
       "      <td>36.919998</td>\n",
       "      <td>37.060001</td>\n",
       "      <td>18987500</td>\n",
       "      <td>38.144444</td>\n",
       "      <td>39.238530</td>\n",
       "      <td>1.950762</td>\n",
       "      <td>42.166979</td>\n",
       "      <td>34.363929</td>\n",
       "      <td>41.400610</td>\n",
       "      <td>44.68</td>\n",
       "      <td>37.020000</td>\n",
       "      <td>36.330002</td>\n",
       "    </tr>\n",
       "    <tr>\n",
       "      <th>1458</th>\n",
       "      <td>2022-11-10</td>\n",
       "      <td>BBAS3</td>\n",
       "      <td>37.000000</td>\n",
       "      <td>37.680000</td>\n",
       "      <td>35.669998</td>\n",
       "      <td>36.330002</td>\n",
       "      <td>64558100</td>\n",
       "      <td>37.893333</td>\n",
       "      <td>39.124470</td>\n",
       "      <td>2.068527</td>\n",
       "      <td>42.113418</td>\n",
       "      <td>33.839309</td>\n",
       "      <td>39.105792</td>\n",
       "      <td>44.68</td>\n",
       "      <td>36.330002</td>\n",
       "      <td>35.520000</td>\n",
       "    </tr>\n",
       "    <tr>\n",
       "      <th>1459</th>\n",
       "      <td>2022-11-11</td>\n",
       "      <td>BBAS3</td>\n",
       "      <td>36.310001</td>\n",
       "      <td>36.650002</td>\n",
       "      <td>35.360001</td>\n",
       "      <td>35.520000</td>\n",
       "      <td>54156800</td>\n",
       "      <td>37.526667</td>\n",
       "      <td>38.983118</td>\n",
       "      <td>2.231205</td>\n",
       "      <td>42.203320</td>\n",
       "      <td>33.278498</td>\n",
       "      <td>36.676518</td>\n",
       "      <td>44.68</td>\n",
       "      <td>35.520000</td>\n",
       "      <td>36.400002</td>\n",
       "    </tr>\n",
       "  </tbody>\n",
       "</table>\n",
       "</div>"
      ],
      "text/plain": [
       "           Datas  Papel   Abertura       Alta      Baixa  Fechamento  \\\n",
       "1455  2022-11-07  BBAS3  38.910000  39.189999  37.619999   37.889999   \n",
       "1456  2022-11-08  BBAS3  37.779999  38.299999  37.320000   38.070000   \n",
       "1457  2022-11-09  BBAS3  37.639999  38.560001  36.919998   37.060001   \n",
       "1458  2022-11-10  BBAS3  37.000000  37.680000  35.669998   36.330002   \n",
       "1459  2022-11-11  BBAS3  36.310001  36.650002  35.360001   35.520000   \n",
       "\n",
       "        Volume       MMS9      MME50  DesvioPadrao  BandaSuperior  \\\n",
       "1455  23671200  38.421111  39.378774      1.855995      42.863808   \n",
       "1456  14742300  38.261111  39.327449      1.874794      42.300496   \n",
       "1457  18987500  38.144444  39.238530      1.950762      42.166979   \n",
       "1458  64558100  37.893333  39.124470      2.068527      42.113418   \n",
       "1459  54156800  37.526667  38.983118      2.231205      42.203320   \n",
       "\n",
       "      BandaInferior        IFR  Max20      Min20  FechamentoSeguinte  \n",
       "1455      35.439829  44.020995  44.68  37.020000           38.070000  \n",
       "1456      34.801322  44.776356  44.68  37.020000           37.060001  \n",
       "1457      34.363929  41.400610  44.68  37.020000           36.330002  \n",
       "1458      33.839309  39.105792  44.68  36.330002           35.520000  \n",
       "1459      33.278498  36.676518  44.68  35.520000           36.400002  "
      ]
     },
     "execution_count": 26,
     "metadata": {},
     "output_type": "execute_result"
    }
   ],
   "source": [
    "df.tail()"
   ]
  },
  {
   "cell_type": "code",
   "execution_count": 22,
   "metadata": {},
   "outputs": [
    {
     "name": "stdout",
     "output_type": "stream",
     "text": [
      "{'Qtd': 1411, 'Qtd Treino': '988 de 0 até 988', 'Qtd Teste': '423 de 988 até 1411'}\n"
     ]
    }
   ],
   "source": [
    "## -- -- -- -- -- -- --\n",
    "## distribuição da base\n",
    "qtd_linhas = len(df)\n",
    "qtd_linhas_treino = round(.70 * qtd_linhas)\n",
    "qtd_linhas_teste = qtd_linhas - qtd_linhas_treino\n",
    "treino_de = 0\n",
    "treino_ate = qtd_linhas_treino\n",
    "teste_de = qtd_linhas_treino\n",
    "teste_ate = qtd_linhas_treino + qtd_linhas_teste\n",
    "\n",
    "print({\n",
    "    'Qtd': qtd_linhas,\n",
    "    'Qtd Treino': f'{qtd_linhas_treino} de {treino_de} até {treino_ate}',\n",
    "    'Qtd Teste': f'{qtd_linhas_teste} de {teste_de} até {teste_ate}'\n",
    "})"
   ]
  },
  {
   "cell_type": "code",
   "execution_count": 17,
   "metadata": {},
   "outputs": [
    {
     "data": {
      "text/html": [
       "<div>\n",
       "<style scoped>\n",
       "    .dataframe tbody tr th:only-of-type {\n",
       "        vertical-align: middle;\n",
       "    }\n",
       "\n",
       "    .dataframe tbody tr th {\n",
       "        vertical-align: top;\n",
       "    }\n",
       "\n",
       "    .dataframe thead th {\n",
       "        text-align: right;\n",
       "    }\n",
       "</style>\n",
       "<table border=\"1\" class=\"dataframe\">\n",
       "  <thead>\n",
       "    <tr style=\"text-align: right;\">\n",
       "      <th></th>\n",
       "      <th>Score</th>\n",
       "    </tr>\n",
       "  </thead>\n",
       "  <tbody>\n",
       "    <tr>\n",
       "      <th>BandaInferior</th>\n",
       "      <td>207.27</td>\n",
       "    </tr>\n",
       "    <tr>\n",
       "      <th>Baixa</th>\n",
       "      <td>175.85</td>\n",
       "    </tr>\n",
       "    <tr>\n",
       "      <th>MME50</th>\n",
       "      <td>167.41</td>\n",
       "    </tr>\n",
       "    <tr>\n",
       "      <th>Volume</th>\n",
       "      <td>147.64</td>\n",
       "    </tr>\n",
       "    <tr>\n",
       "      <th>Alta</th>\n",
       "      <td>106.64</td>\n",
       "    </tr>\n",
       "    <tr>\n",
       "      <th>BandaSuperior</th>\n",
       "      <td>48.56</td>\n",
       "    </tr>\n",
       "    <tr>\n",
       "      <th>DesvioPadrao</th>\n",
       "      <td>35.20</td>\n",
       "    </tr>\n",
       "    <tr>\n",
       "      <th>MMS9</th>\n",
       "      <td>1.93</td>\n",
       "    </tr>\n",
       "  </tbody>\n",
       "</table>\n",
       "</div>"
      ],
      "text/plain": [
       "                Score\n",
       "BandaInferior  207.27\n",
       "Baixa          175.85\n",
       "MME50          167.41\n",
       "Volume         147.64\n",
       "Alta           106.64\n",
       "BandaSuperior   48.56\n",
       "DesvioPadrao    35.20\n",
       "MMS9             1.93"
      ]
     },
     "execution_count": 17,
     "metadata": {},
     "output_type": "execute_result"
    }
   ],
   "source": [
    "## -- -- -- -- -- -- --\n",
    "## separação de features e labels\n",
    "features = df[['Abertura','Alta','Baixa','Volume','MME50','BandaInferior','Min20','Fechamento']].copy()\n",
    "labels = df['FechamentoSeguinte'].copy()\n",
    "X_train = features[:qtd_linhas_treino].copy()\n",
    "X_test = features[teste_de:teste_ate].copy()\n",
    "y_train = labels[:qtd_linhas_treino].copy()\n",
    "y_test = labels[teste_de:teste_ate].copy()\n",
    "\n",
    "\n",
    "## -- -- -- -- -- -- --\n",
    "## testa os melhores campos\n",
    "features_list = ('Abertura','Alta','Baixa','Volume','MMS9','MME50','DesvioPadrao','BandaSuperior','BandaInferior','IFR','Max20','Min20','Fechamento')\n",
    "k_best_features = SelectKBest(k='all')\n",
    "k_best_features.fit_transform(features, labels)\n",
    "k_best_features_scores = k_best_features.scores_\n",
    "raw_pairs = zip(features_list[1:], k_best_features_scores)\n",
    "ordered_pairs = list(reversed(sorted(raw_pairs, key=lambda x: x[1])))\n",
    "\n",
    "k_best_features_final = dict(ordered_pairs[:15])\n",
    "best_features = k_best_features_final.keys()\n",
    "df_k_best = pd.DataFrame.from_dict(k_best_features_final, orient='index')\n",
    "df_k_best.rename(columns={0: 'Score'}, inplace=True)\n",
    "df_k_best.Score = df_k_best.Score.map('{:.2f}'.format)\n",
    "df_k_best"
   ]
  },
  {
   "cell_type": "code",
   "execution_count": 20,
   "metadata": {},
   "outputs": [
    {
     "name": "stdout",
     "output_type": "stream",
     "text": [
      "Coeficiente de determinação: 97.91\n"
     ]
    }
   ],
   "source": [
    "## -- -- -- -- -- -- --\n",
    "## Normalizando os dados de entrada(features)\n",
    "scaler = MinMaxScaler()\n",
    "X_train_scale = scaler.fit_transform(X_train)\n",
    "X_test_scale  = scaler.transform(X_test)\n",
    "\n",
    "\n",
    "## -- -- -- -- -- -- --\n",
    "## Treinamento usando regressão linear\n",
    "lr = linear_model.LinearRegression()\n",
    "lr.fit(X_train_scale, y_train)\n",
    "pred= lr.predict(X_test_scale)\n",
    "cd =r2_score(y_test, pred)\n",
    "\n",
    "print(f'Coeficiente de determinação: {cd * 100:.2f}')"
   ]
  },
  {
   "cell_type": "code",
   "execution_count": 6,
   "metadata": {},
   "outputs": [
    {
     "name": "stdout",
     "output_type": "stream",
     "text": [
      "Previsão: 36.36, Margem de erro: 0.21\n"
     ]
    }
   ],
   "source": [
    "## -- -- -- -- -- -- --\n",
    "## Usando regressão linear\n",
    "datas_full = df.Datas[teste_de:teste_ate].copy()\n",
    "datas_teste = datas_full[teste_de:teste_ate].copy()\n",
    "fechamento_full = df.Fechamento.copy()\n",
    "fechamento = fechamento_full[teste_de:teste_ate].copy()\n",
    "\n",
    "df_previsao = pd.DataFrame({'Datas': datas_full, 'Real': fechamento, 'Previsao': pred})\n",
    "# df_previsao.Previsao = df_previsao.Previsao.shift(+1)\n",
    "df_previsao.set_index('Datas', inplace=True)\n",
    "df_previsao['Diferenca'] =  (df_previsao.Previsao - df_previsao.Real)\n",
    "\n",
    "a_prever = df_original[['Abertura','Alta','Baixa','Volume','MME50','BandaInferior','Min20','Fechamento']].tail(1)\n",
    "\n",
    "# -- -- -- -- -- -- --\n",
    "# Prevendo dados\n",
    "previsao=scaler.transform( a_prever )\n",
    "pred=lr.predict(previsao)\n",
    "desv_pad = df_previsao.Diferenca.rolling(window=20).std()[-2]\n",
    "print(f'Previsão: {pred[0]:,.2f}, Margem de erro: {desv_pad:,.2f}')"
   ]
  },
  {
   "cell_type": "code",
   "execution_count": 23,
   "metadata": {},
   "outputs": [
    {
     "data": {
      "application/vnd.plotly.v1+json": {
       "config": {
        "plotlyServerURL": "https://plot.ly"
       },
       "data": [
        {
         "marker": {
          "color": "Orange"
         },
         "mode": "lines+markers",
         "name": "Real",
         "type": "scatter",
         "x": [
          "2022-08-31",
          "2022-09-01",
          "2022-09-02",
          "2022-09-05",
          "2022-09-06",
          "2022-09-08",
          "2022-09-09",
          "2022-09-12",
          "2022-09-13",
          "2022-09-14",
          "2022-09-15",
          "2022-09-16",
          "2022-09-19",
          "2022-09-20",
          "2022-09-21",
          "2022-09-22",
          "2022-09-23",
          "2022-09-26",
          "2022-09-27",
          "2022-09-28",
          "2022-09-29",
          "2022-09-30",
          "2022-10-03",
          "2022-10-04",
          "2022-10-05",
          "2022-10-06",
          "2022-10-07",
          "2022-10-10",
          "2022-10-11",
          "2022-10-13",
          "2022-10-14",
          "2022-10-17",
          "2022-10-18",
          "2022-10-19",
          "2022-10-20",
          "2022-10-21",
          "2022-10-24",
          "2022-10-25",
          "2022-10-26",
          "2022-10-27",
          "2022-10-28",
          "2022-10-31",
          "2022-11-01",
          "2022-11-03",
          "2022-11-04",
          "2022-11-07",
          "2022-11-08",
          "2022-11-09",
          "2022-11-10",
          "2022-11-11"
         ],
         "xaxis": "x",
         "y": [
          41.412872314453125,
          42.048622131347656,
          42.24728775024414,
          41.353275299072266,
          39.36656951904297,
          39.197696685791016,
          40.280452728271484,
          40.90626525878906,
          40.220001220703125,
          40.2599983215332,
          39.849998474121094,
          39.400001525878906,
          40.18000030517578,
          40.790000915527344,
          40.5,
          41.2400016784668,
          40.72999954223633,
          39.029998779296875,
          38.540000915527344,
          38.54999923706055,
          38.34000015258789,
          38.52000045776367,
          41.459999084472656,
          39.22999954223633,
          39.86000061035156,
          40.56999969482422,
          40.65999984741211,
          40.06999969482422,
          39.11000061035156,
          39.380001068115234,
          39.15999984741211,
          39.4900016784668,
          39.95000076293945,
          41.650001525878906,
          43.599998474121094,
          44.68000030517578,
          40.20000076293945,
          39.5099983215332,
          38.11000061035156,
          38.59000015258789,
          38.81999969482422,
          37.02000045776367,
          37.900001525878906,
          38.689998626708984,
          39.2599983215332,
          37.88999938964844,
          38.06999969482422,
          37.060001373291016,
          36.33000183105469,
          35.52000045776367
         ],
         "yaxis": "y"
        },
        {
         "marker": {
          "color": "Cyan"
         },
         "mode": "lines+markers",
         "name": "Previsão Teste",
         "type": "scatter",
         "x": [
          "2022-08-31",
          "2022-09-01",
          "2022-09-02",
          "2022-09-05",
          "2022-09-06",
          "2022-09-08",
          "2022-09-09",
          "2022-09-12",
          "2022-09-13",
          "2022-09-14",
          "2022-09-15",
          "2022-09-16",
          "2022-09-19",
          "2022-09-20",
          "2022-09-21",
          "2022-09-22",
          "2022-09-23",
          "2022-09-26",
          "2022-09-27",
          "2022-09-28",
          "2022-09-29",
          "2022-09-30",
          "2022-10-03",
          "2022-10-04",
          "2022-10-05",
          "2022-10-06",
          "2022-10-07",
          "2022-10-10",
          "2022-10-11",
          "2022-10-13",
          "2022-10-14",
          "2022-10-17",
          "2022-10-18",
          "2022-10-19",
          "2022-10-20",
          "2022-10-21",
          "2022-10-24",
          "2022-10-25",
          "2022-10-26",
          "2022-10-27",
          "2022-10-28",
          "2022-10-31",
          "2022-11-01",
          "2022-11-03",
          "2022-11-04",
          "2022-11-07",
          "2022-11-08",
          "2022-11-09",
          "2022-11-10",
          "2022-11-11"
         ],
         "xaxis": "x",
         "y": [
          41.445629835146796,
          41.9784233075719,
          42.34552921076616,
          41.20425272934597,
          39.31106972136953,
          39.05124512453237,
          40.392281008496866,
          41.05053791703011,
          40.34305788254284,
          40.379366582312784,
          39.90933404334275,
          39.333451423819184,
          39.9523571173949,
          40.77696342786635,
          40.36605023143429,
          41.01546662672392,
          40.51425211046862,
          38.92896551613988,
          38.55214745771366,
          38.560666525991905,
          38.319592073970895,
          38.494064991617776,
          41.60988901210939,
          39.075582305364925,
          39.836487156789204,
          40.500617219757466,
          40.51271962217777,
          39.94477865525087,
          39.04022134862374,
          39.23864767551525,
          39.08134063888784,
          39.40336149424145,
          40.36426538382257,
          41.5195605509207,
          43.59055594382143,
          44.66573052675702,
          40.048979402155666,
          39.46160570968682,
          37.78689783905729,
          38.776487790521315,
          38.74824640398863,
          37.37420387856099,
          38.026919127348975,
          38.20032725108325,
          39.454407104011295,
          37.80836687246885,
          37.90204460849957,
          37.180381172704415,
          36.44870718677474,
          35.67793467670783
         ],
         "yaxis": "y"
        },
        {
         "marker": {
          "color": "#fd79a8"
         },
         "mode": "lines+markers",
         "name": "Previsão Futuro",
         "type": "scatter",
         "x": [
          "2022-11-14",
          "2022-11-16"
         ],
         "xaxis": "x",
         "y": [
          "35.68",
          "27.46"
         ],
         "yaxis": "y"
        },
        {
         "line": {
          "color": "#2ecc71",
          "dash": "dot"
         },
         "mode": "lines+markers",
         "name": "Diferença",
         "type": "scatter",
         "x": [
          "2022-08-31",
          "2022-09-01",
          "2022-09-02",
          "2022-09-05",
          "2022-09-06",
          "2022-09-08",
          "2022-09-09",
          "2022-09-12",
          "2022-09-13",
          "2022-09-14",
          "2022-09-15",
          "2022-09-16",
          "2022-09-19",
          "2022-09-20",
          "2022-09-21",
          "2022-09-22",
          "2022-09-23",
          "2022-09-26",
          "2022-09-27",
          "2022-09-28",
          "2022-09-29",
          "2022-09-30",
          "2022-10-03",
          "2022-10-04",
          "2022-10-05",
          "2022-10-06",
          "2022-10-07",
          "2022-10-10",
          "2022-10-11",
          "2022-10-13",
          "2022-10-14",
          "2022-10-17",
          "2022-10-18",
          "2022-10-19",
          "2022-10-20",
          "2022-10-21",
          "2022-10-24",
          "2022-10-25",
          "2022-10-26",
          "2022-10-27",
          "2022-10-28",
          "2022-10-31",
          "2022-11-01",
          "2022-11-03",
          "2022-11-04",
          "2022-11-07",
          "2022-11-08",
          "2022-11-09",
          "2022-11-10",
          "2022-11-11"
         ],
         "xaxis": "x2",
         "y": [
          0.03275752069367144,
          -0.0701988237757547,
          0.09824146052201854,
          -0.14902256972629857,
          -0.055499797673441265,
          -0.1464515612586439,
          0.1118282802253816,
          0.14427265824105007,
          0.12305666183971198,
          0.11936826077958074,
          0.05933556922165906,
          -0.0665501020597219,
          -0.22764318778088466,
          -0.013037487660994884,
          -0.1339497685657065,
          -0.22453505174287613,
          -0.21574743176770994,
          -0.10103326315699235,
          0.012146542186314946,
          0.010667288931358598,
          -0.02040807861699534,
          -0.025935466145895703,
          0.14988992763673537,
          -0.15441723687140296,
          -0.023513453562358677,
          -0.0693824750667531,
          -0.14728022523433992,
          -0.12522103957334707,
          -0.0697792617278239,
          -0.14135339259998148,
          -0.07865920852427166,
          -0.08664018422534525,
          0.41426462088311666,
          -0.13044097495820495,
          -0.009442530299665464,
          -0.014269778418764645,
          -0.15102136078378692,
          -0.04839261184638133,
          -0.32310277129427334,
          0.18648763793342482,
          -0.07175329083558779,
          0.3542034207973188,
          0.12691760147006903,
          -0.4896713756257327,
          0.19440878247809223,
          -0.0816325171795853,
          -0.16795508632464617,
          0.12037979941339927,
          0.11870535572005281,
          0.15793421894415616
         ],
         "yaxis": "y2"
        },
        {
         "line": {
          "color": "rgba(0,0,0,0)"
         },
         "name": "Previsão",
         "showlegend": false,
         "type": "scatter",
         "x": [
          "2022-11-14",
          "2022-11-16"
         ],
         "xaxis": "x2",
         "y": [
          "",
          ""
         ],
         "yaxis": "y2"
        },
        {
         "line": {
          "color": "#cccddd",
          "dash": "dot"
         },
         "name": "Diferença",
         "showlegend": false,
         "type": "scatter",
         "x": [
          "2022-08-31",
          "2022-09-01",
          "2022-09-02",
          "2022-09-05",
          "2022-09-06",
          "2022-09-08",
          "2022-09-09",
          "2022-09-12",
          "2022-09-13",
          "2022-09-14",
          "2022-09-15",
          "2022-09-16",
          "2022-09-19",
          "2022-09-20",
          "2022-09-21",
          "2022-09-22",
          "2022-09-23",
          "2022-09-26",
          "2022-09-27",
          "2022-09-28",
          "2022-09-29",
          "2022-09-30",
          "2022-10-03",
          "2022-10-04",
          "2022-10-05",
          "2022-10-06",
          "2022-10-07",
          "2022-10-10",
          "2022-10-11",
          "2022-10-13",
          "2022-10-14",
          "2022-10-17",
          "2022-10-18",
          "2022-10-19",
          "2022-10-20",
          "2022-10-21",
          "2022-10-24",
          "2022-10-25",
          "2022-10-26",
          "2022-10-27",
          "2022-10-28",
          "2022-10-31",
          "2022-11-01",
          "2022-11-03",
          "2022-11-04",
          "2022-11-07",
          "2022-11-08",
          "2022-11-09",
          "2022-11-10",
          "2022-11-11"
         ],
         "xaxis": "x2",
         "y": [
          0,
          0,
          0,
          0,
          0,
          0,
          0,
          0,
          0,
          0,
          0,
          0,
          0,
          0,
          0,
          0,
          0,
          0,
          0,
          0,
          0,
          0,
          0,
          0,
          0,
          0,
          0,
          0,
          0,
          0,
          0,
          0,
          0,
          0,
          0,
          0,
          0,
          0,
          0,
          0,
          0,
          0,
          0,
          0,
          0,
          0,
          0,
          0,
          0,
          0
         ],
         "yaxis": "y2"
        }
       ],
       "layout": {
        "height": 700,
        "template": {
         "data": {
          "bar": [
           {
            "error_x": {
             "color": "#f2f5fa"
            },
            "error_y": {
             "color": "#f2f5fa"
            },
            "marker": {
             "line": {
              "color": "rgb(17,17,17)",
              "width": 0.5
             },
             "pattern": {
              "fillmode": "overlay",
              "size": 10,
              "solidity": 0.2
             }
            },
            "type": "bar"
           }
          ],
          "barpolar": [
           {
            "marker": {
             "line": {
              "color": "rgb(17,17,17)",
              "width": 0.5
             },
             "pattern": {
              "fillmode": "overlay",
              "size": 10,
              "solidity": 0.2
             }
            },
            "type": "barpolar"
           }
          ],
          "carpet": [
           {
            "aaxis": {
             "endlinecolor": "#A2B1C6",
             "gridcolor": "#506784",
             "linecolor": "#506784",
             "minorgridcolor": "#506784",
             "startlinecolor": "#A2B1C6"
            },
            "baxis": {
             "endlinecolor": "#A2B1C6",
             "gridcolor": "#506784",
             "linecolor": "#506784",
             "minorgridcolor": "#506784",
             "startlinecolor": "#A2B1C6"
            },
            "type": "carpet"
           }
          ],
          "choropleth": [
           {
            "colorbar": {
             "outlinewidth": 0,
             "ticks": ""
            },
            "type": "choropleth"
           }
          ],
          "contour": [
           {
            "colorbar": {
             "outlinewidth": 0,
             "ticks": ""
            },
            "colorscale": [
             [
              0,
              "#0d0887"
             ],
             [
              0.1111111111111111,
              "#46039f"
             ],
             [
              0.2222222222222222,
              "#7201a8"
             ],
             [
              0.3333333333333333,
              "#9c179e"
             ],
             [
              0.4444444444444444,
              "#bd3786"
             ],
             [
              0.5555555555555556,
              "#d8576b"
             ],
             [
              0.6666666666666666,
              "#ed7953"
             ],
             [
              0.7777777777777778,
              "#fb9f3a"
             ],
             [
              0.8888888888888888,
              "#fdca26"
             ],
             [
              1,
              "#f0f921"
             ]
            ],
            "type": "contour"
           }
          ],
          "contourcarpet": [
           {
            "colorbar": {
             "outlinewidth": 0,
             "ticks": ""
            },
            "type": "contourcarpet"
           }
          ],
          "heatmap": [
           {
            "colorbar": {
             "outlinewidth": 0,
             "ticks": ""
            },
            "colorscale": [
             [
              0,
              "#0d0887"
             ],
             [
              0.1111111111111111,
              "#46039f"
             ],
             [
              0.2222222222222222,
              "#7201a8"
             ],
             [
              0.3333333333333333,
              "#9c179e"
             ],
             [
              0.4444444444444444,
              "#bd3786"
             ],
             [
              0.5555555555555556,
              "#d8576b"
             ],
             [
              0.6666666666666666,
              "#ed7953"
             ],
             [
              0.7777777777777778,
              "#fb9f3a"
             ],
             [
              0.8888888888888888,
              "#fdca26"
             ],
             [
              1,
              "#f0f921"
             ]
            ],
            "type": "heatmap"
           }
          ],
          "heatmapgl": [
           {
            "colorbar": {
             "outlinewidth": 0,
             "ticks": ""
            },
            "colorscale": [
             [
              0,
              "#0d0887"
             ],
             [
              0.1111111111111111,
              "#46039f"
             ],
             [
              0.2222222222222222,
              "#7201a8"
             ],
             [
              0.3333333333333333,
              "#9c179e"
             ],
             [
              0.4444444444444444,
              "#bd3786"
             ],
             [
              0.5555555555555556,
              "#d8576b"
             ],
             [
              0.6666666666666666,
              "#ed7953"
             ],
             [
              0.7777777777777778,
              "#fb9f3a"
             ],
             [
              0.8888888888888888,
              "#fdca26"
             ],
             [
              1,
              "#f0f921"
             ]
            ],
            "type": "heatmapgl"
           }
          ],
          "histogram": [
           {
            "marker": {
             "pattern": {
              "fillmode": "overlay",
              "size": 10,
              "solidity": 0.2
             }
            },
            "type": "histogram"
           }
          ],
          "histogram2d": [
           {
            "colorbar": {
             "outlinewidth": 0,
             "ticks": ""
            },
            "colorscale": [
             [
              0,
              "#0d0887"
             ],
             [
              0.1111111111111111,
              "#46039f"
             ],
             [
              0.2222222222222222,
              "#7201a8"
             ],
             [
              0.3333333333333333,
              "#9c179e"
             ],
             [
              0.4444444444444444,
              "#bd3786"
             ],
             [
              0.5555555555555556,
              "#d8576b"
             ],
             [
              0.6666666666666666,
              "#ed7953"
             ],
             [
              0.7777777777777778,
              "#fb9f3a"
             ],
             [
              0.8888888888888888,
              "#fdca26"
             ],
             [
              1,
              "#f0f921"
             ]
            ],
            "type": "histogram2d"
           }
          ],
          "histogram2dcontour": [
           {
            "colorbar": {
             "outlinewidth": 0,
             "ticks": ""
            },
            "colorscale": [
             [
              0,
              "#0d0887"
             ],
             [
              0.1111111111111111,
              "#46039f"
             ],
             [
              0.2222222222222222,
              "#7201a8"
             ],
             [
              0.3333333333333333,
              "#9c179e"
             ],
             [
              0.4444444444444444,
              "#bd3786"
             ],
             [
              0.5555555555555556,
              "#d8576b"
             ],
             [
              0.6666666666666666,
              "#ed7953"
             ],
             [
              0.7777777777777778,
              "#fb9f3a"
             ],
             [
              0.8888888888888888,
              "#fdca26"
             ],
             [
              1,
              "#f0f921"
             ]
            ],
            "type": "histogram2dcontour"
           }
          ],
          "mesh3d": [
           {
            "colorbar": {
             "outlinewidth": 0,
             "ticks": ""
            },
            "type": "mesh3d"
           }
          ],
          "parcoords": [
           {
            "line": {
             "colorbar": {
              "outlinewidth": 0,
              "ticks": ""
             }
            },
            "type": "parcoords"
           }
          ],
          "pie": [
           {
            "automargin": true,
            "type": "pie"
           }
          ],
          "scatter": [
           {
            "marker": {
             "line": {
              "color": "#283442"
             }
            },
            "type": "scatter"
           }
          ],
          "scatter3d": [
           {
            "line": {
             "colorbar": {
              "outlinewidth": 0,
              "ticks": ""
             }
            },
            "marker": {
             "colorbar": {
              "outlinewidth": 0,
              "ticks": ""
             }
            },
            "type": "scatter3d"
           }
          ],
          "scattercarpet": [
           {
            "marker": {
             "colorbar": {
              "outlinewidth": 0,
              "ticks": ""
             }
            },
            "type": "scattercarpet"
           }
          ],
          "scattergeo": [
           {
            "marker": {
             "colorbar": {
              "outlinewidth": 0,
              "ticks": ""
             }
            },
            "type": "scattergeo"
           }
          ],
          "scattergl": [
           {
            "marker": {
             "line": {
              "color": "#283442"
             }
            },
            "type": "scattergl"
           }
          ],
          "scattermapbox": [
           {
            "marker": {
             "colorbar": {
              "outlinewidth": 0,
              "ticks": ""
             }
            },
            "type": "scattermapbox"
           }
          ],
          "scatterpolar": [
           {
            "marker": {
             "colorbar": {
              "outlinewidth": 0,
              "ticks": ""
             }
            },
            "type": "scatterpolar"
           }
          ],
          "scatterpolargl": [
           {
            "marker": {
             "colorbar": {
              "outlinewidth": 0,
              "ticks": ""
             }
            },
            "type": "scatterpolargl"
           }
          ],
          "scatterternary": [
           {
            "marker": {
             "colorbar": {
              "outlinewidth": 0,
              "ticks": ""
             }
            },
            "type": "scatterternary"
           }
          ],
          "surface": [
           {
            "colorbar": {
             "outlinewidth": 0,
             "ticks": ""
            },
            "colorscale": [
             [
              0,
              "#0d0887"
             ],
             [
              0.1111111111111111,
              "#46039f"
             ],
             [
              0.2222222222222222,
              "#7201a8"
             ],
             [
              0.3333333333333333,
              "#9c179e"
             ],
             [
              0.4444444444444444,
              "#bd3786"
             ],
             [
              0.5555555555555556,
              "#d8576b"
             ],
             [
              0.6666666666666666,
              "#ed7953"
             ],
             [
              0.7777777777777778,
              "#fb9f3a"
             ],
             [
              0.8888888888888888,
              "#fdca26"
             ],
             [
              1,
              "#f0f921"
             ]
            ],
            "type": "surface"
           }
          ],
          "table": [
           {
            "cells": {
             "fill": {
              "color": "#506784"
             },
             "line": {
              "color": "rgb(17,17,17)"
             }
            },
            "header": {
             "fill": {
              "color": "#2a3f5f"
             },
             "line": {
              "color": "rgb(17,17,17)"
             }
            },
            "type": "table"
           }
          ]
         },
         "layout": {
          "annotationdefaults": {
           "arrowcolor": "#f2f5fa",
           "arrowhead": 0,
           "arrowwidth": 1
          },
          "autotypenumbers": "strict",
          "coloraxis": {
           "colorbar": {
            "outlinewidth": 0,
            "ticks": ""
           }
          },
          "colorscale": {
           "diverging": [
            [
             0,
             "#8e0152"
            ],
            [
             0.1,
             "#c51b7d"
            ],
            [
             0.2,
             "#de77ae"
            ],
            [
             0.3,
             "#f1b6da"
            ],
            [
             0.4,
             "#fde0ef"
            ],
            [
             0.5,
             "#f7f7f7"
            ],
            [
             0.6,
             "#e6f5d0"
            ],
            [
             0.7,
             "#b8e186"
            ],
            [
             0.8,
             "#7fbc41"
            ],
            [
             0.9,
             "#4d9221"
            ],
            [
             1,
             "#276419"
            ]
           ],
           "sequential": [
            [
             0,
             "#0d0887"
            ],
            [
             0.1111111111111111,
             "#46039f"
            ],
            [
             0.2222222222222222,
             "#7201a8"
            ],
            [
             0.3333333333333333,
             "#9c179e"
            ],
            [
             0.4444444444444444,
             "#bd3786"
            ],
            [
             0.5555555555555556,
             "#d8576b"
            ],
            [
             0.6666666666666666,
             "#ed7953"
            ],
            [
             0.7777777777777778,
             "#fb9f3a"
            ],
            [
             0.8888888888888888,
             "#fdca26"
            ],
            [
             1,
             "#f0f921"
            ]
           ],
           "sequentialminus": [
            [
             0,
             "#0d0887"
            ],
            [
             0.1111111111111111,
             "#46039f"
            ],
            [
             0.2222222222222222,
             "#7201a8"
            ],
            [
             0.3333333333333333,
             "#9c179e"
            ],
            [
             0.4444444444444444,
             "#bd3786"
            ],
            [
             0.5555555555555556,
             "#d8576b"
            ],
            [
             0.6666666666666666,
             "#ed7953"
            ],
            [
             0.7777777777777778,
             "#fb9f3a"
            ],
            [
             0.8888888888888888,
             "#fdca26"
            ],
            [
             1,
             "#f0f921"
            ]
           ]
          },
          "colorway": [
           "#636efa",
           "#EF553B",
           "#00cc96",
           "#ab63fa",
           "#FFA15A",
           "#19d3f3",
           "#FF6692",
           "#B6E880",
           "#FF97FF",
           "#FECB52"
          ],
          "font": {
           "color": "#f2f5fa"
          },
          "geo": {
           "bgcolor": "rgb(17,17,17)",
           "lakecolor": "rgb(17,17,17)",
           "landcolor": "rgb(17,17,17)",
           "showlakes": true,
           "showland": true,
           "subunitcolor": "#506784"
          },
          "hoverlabel": {
           "align": "left"
          },
          "hovermode": "closest",
          "mapbox": {
           "style": "dark"
          },
          "paper_bgcolor": "rgb(17,17,17)",
          "plot_bgcolor": "rgb(17,17,17)",
          "polar": {
           "angularaxis": {
            "gridcolor": "#506784",
            "linecolor": "#506784",
            "ticks": ""
           },
           "bgcolor": "rgb(17,17,17)",
           "radialaxis": {
            "gridcolor": "#506784",
            "linecolor": "#506784",
            "ticks": ""
           }
          },
          "scene": {
           "xaxis": {
            "backgroundcolor": "rgb(17,17,17)",
            "gridcolor": "#506784",
            "gridwidth": 2,
            "linecolor": "#506784",
            "showbackground": true,
            "ticks": "",
            "zerolinecolor": "#C8D4E3"
           },
           "yaxis": {
            "backgroundcolor": "rgb(17,17,17)",
            "gridcolor": "#506784",
            "gridwidth": 2,
            "linecolor": "#506784",
            "showbackground": true,
            "ticks": "",
            "zerolinecolor": "#C8D4E3"
           },
           "zaxis": {
            "backgroundcolor": "rgb(17,17,17)",
            "gridcolor": "#506784",
            "gridwidth": 2,
            "linecolor": "#506784",
            "showbackground": true,
            "ticks": "",
            "zerolinecolor": "#C8D4E3"
           }
          },
          "shapedefaults": {
           "line": {
            "color": "#f2f5fa"
           }
          },
          "sliderdefaults": {
           "bgcolor": "#C8D4E3",
           "bordercolor": "rgb(17,17,17)",
           "borderwidth": 1,
           "tickwidth": 0
          },
          "ternary": {
           "aaxis": {
            "gridcolor": "#506784",
            "linecolor": "#506784",
            "ticks": ""
           },
           "baxis": {
            "gridcolor": "#506784",
            "linecolor": "#506784",
            "ticks": ""
           },
           "bgcolor": "rgb(17,17,17)",
           "caxis": {
            "gridcolor": "#506784",
            "linecolor": "#506784",
            "ticks": ""
           }
          },
          "title": {
           "x": 0.05
          },
          "updatemenudefaults": {
           "bgcolor": "#506784",
           "borderwidth": 0
          },
          "xaxis": {
           "automargin": true,
           "gridcolor": "#283442",
           "linecolor": "#506784",
           "ticks": "",
           "title": {
            "standoff": 15
           },
           "zerolinecolor": "#283442",
           "zerolinewidth": 2
          },
          "yaxis": {
           "automargin": true,
           "gridcolor": "#283442",
           "linecolor": "#506784",
           "ticks": "",
           "title": {
            "standoff": 15
           },
           "zerolinecolor": "#283442",
           "zerolinewidth": 2
          }
         }
        },
        "title": {
         "font": {
          "size": 25
         },
         "text": "Previsão de Banco do Brasil",
         "x": 0.5,
         "xanchor": "center",
         "y": 0.9,
         "yanchor": "top"
        },
        "xaxis": {
         "anchor": "y",
         "domain": [
          0,
          1
         ],
         "rangeslider": {
          "visible": false
         }
        },
        "xaxis2": {
         "anchor": "y2",
         "domain": [
          0,
          1
         ]
        },
        "yaxis": {
         "anchor": "x",
         "domain": [
          0.575,
          1
         ]
        },
        "yaxis2": {
         "anchor": "x2",
         "domain": [
          0,
          0.425
         ]
        }
       }
      }
     },
     "metadata": {},
     "output_type": "display_data"
    }
   ],
   "source": [
    "hoje = pd.DataFrame({'Datas': [datetime.now().strftime('%Y-%m-%d')], 'Previsao': [pred[0]]})\n",
    "hoje.set_index('Datas', inplace=True)\n",
    "df_analise = df_original[['Fechamento']].tail(31).join(df_previsao[['Previsao']].tail(31))\n",
    "df_analise.rename(columns={'Fechamento': 'Real'}, inplace=True)\n",
    "df_analise.Previsao = df_analise.Previsao.shift(+1)\n",
    "df_analise['Diferenca'] =  (df_analise.Previsao - df_analise.Real)\n",
    "df_analise = pd.concat([df_analise, hoje])\n",
    "df_analise['DesvPad'] = df_analise.Diferenca.rolling(window=20).std().map('{:,.2f}'.format)\n",
    "df_analise.DesvPad = df_analise.DesvPad.shift(+1)\n",
    "df_analise.Real = df_analise.Real.map('{:,.2f}'.format)\n",
    "df_analise.Previsao = df_analise.Previsao.map('{:,.2f}'.format)\n",
    "df_analise.Diferenca = df_analise.Diferenca.map('{:,.2f}'.format)\n",
    "# df_analise.tail(5)\n",
    "graficos.LinhasPrevisão2(df_previsao=df_previsao.tail(50), papel='Banco do Brasil', df_prever=df_analise.tail(2))"
   ]
  }
 ],
 "metadata": {
  "kernelspec": {
   "display_name": "Python 3.9.13 ('base')",
   "language": "python",
   "name": "python3"
  },
  "language_info": {
   "codemirror_mode": {
    "name": "ipython",
    "version": 3
   },
   "file_extension": ".py",
   "mimetype": "text/x-python",
   "name": "python",
   "nbconvert_exporter": "python",
   "pygments_lexer": "ipython3",
   "version": "3.9.13"
  },
  "orig_nbformat": 4,
  "vscode": {
   "interpreter": {
    "hash": "ad2bdc8ecc057115af97d19610ffacc2b4e99fae6737bb82f5d7fb13d2f2c186"
   }
  }
 },
 "nbformat": 4,
 "nbformat_minor": 2
}
